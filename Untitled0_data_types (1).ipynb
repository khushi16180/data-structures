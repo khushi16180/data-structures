{
  "nbformat": 4,
  "nbformat_minor": 0,
  "metadata": {
    "colab": {
      "provenance": []
    },
    "kernelspec": {
      "name": "python3",
      "display_name": "Python 3"
    },
    "language_info": {
      "name": "python"
    }
  },
  "cells": [
    {
      "cell_type": "markdown",
      "source": [
        " 1. What are data structures, and why are they important\n",
        " A data structure is a way of organizing, storing, and managing data in a computer so it can be used efficiently. It defines the relationship between the data and the operations that can be performed on it.\n",
        "\n",
        "Examples of data structures include arrays, linked lists, stacks, queues, trees, graphs, hash tables, and heaps.\n",
        "Efficient data management\n",
        "They allow storage and retrieval of data in an optimized way (e.g., searching in a sorted array vs. an unsorted one).\n",
        "\n",
        "Performance optimization\n",
        "The right data structure reduces the time and memory required to solve a problem (e.g., using a hash table for fast lookups instead of a list).\n",
        "\n",
        "Problem-solving\n",
        "Many algorithms depend on data structures to work effectively (e.g., graphs for network routing, trees for hierarchical data).\n",
        "\n",
        "Reusability\n",
        "Data structures are building blocks that can be reused across different applications.\n",
        "\n",
        "Real-world modeling\n",
        "They help model and represent real-world entities—like social networks (graphs), task scheduling (queues), or undo functionality (stacks).\n",
        "\n",
        "2. Explain the difference between mutable and immutable data types with examples.\n",
        "1. Mutable Data Types\n",
        "\n",
        "Definition: Objects whose values can be changed/modified after creation.\n",
        "\n",
        "You can add, remove, or update elements without creating a new object.\n",
        "\n",
        "Examples in Python: list, dict, set\n",
        "\n",
        "🔹 Example (List – Mutable)\n",
        "\n",
        "numbers = [1, 2, 3]\n",
        "print(\"Before:\", numbers)\n",
        "\n",
        "numbers[0] = 10   # changing first element\n",
        "numbers.append(4) # adding new element\n",
        "\n",
        "print(\"After:\", numbers)\n",
        "\n",
        "2. Immutable Data Types\n",
        "\n",
        "Definition: Objects whose values cannot be changed once created.\n",
        "\n",
        "Any modification creates a new object.\n",
        "\n",
        "Examples in Python: int, float, string, tuple\n",
        "\n",
        "🔹 Example (String – Immutable)\n",
        "\n",
        "name = \"hello\"\n",
        "print(\"Before:\", name)\n",
        "\n",
        "# Trying to change the first character\n",
        "new_name = \"H\" + name[1:]  \n",
        "\n",
        "print(\"After:\", new_name)\n",
        "\n",
        "3. What are the main differences between lists and tuples in Python?\n",
        "\n",
        "1\tLists are mutable(can be modified).\tTuples are immutable(cannot be modified).\n",
        "2\tIteration over lists is time-consuming.\tIterations over tuple is faster\n",
        "3\tLists are better for performing operations, such as insertion and deletion.\tTuples are more suitable for accessing elements efficiently.\n",
        "4\tLists consume more memory.\tTuples consumes less memory\n",
        "5\tLists have several built-in methods.\tTuples have fewer built-in methods.\n",
        "6\tLists are more prone to unexpected changes and errors.\n",
        "\n",
        "4. Describe how dictionaries store data\n",
        "ans  Key–Value Pairs\n",
        "\n",
        "A dictionary is a mapping type that stores data as key: value pairs.\n",
        "\n",
        "Example:\n",
        "\n",
        "student = {\"name\": \"Khushi\", \"age\": 23, \"grade\": \"A\"}\n",
        "Here:\n",
        "\n",
        "\"name\" is a key, \"Khushi\" is its value\n",
        "\n",
        "\"age\" → 23\n",
        "\n",
        "\"grade\" → \"A\"\n",
        "\n",
        "5. Why might you use a set instead of a list in Python?\n",
        "\n",
        "Duplicates\tlist-Allows duplicates\tset- Removes duplicates automatically\n",
        "Order\tlist-Preserves insertion order (since Python 3.7)\tset-Unordered (no guaranteed position)\n",
        "Mutability\tlist-Mutable\tset-Mutable (but only with hashable elements)\n",
        "Search Speed\tSearching is O(n) (linear scan)\tSearching is O(1) on average (hash table lookup)\n",
        "\n",
        "6. What is a string in Python, and how is it different from a list?\n",
        "\n",
        "A string is a sequence of characters enclosed in quotes (' ', \" \", or triple quotes).\n",
        "\n",
        "Example:\n",
        "\n",
        "text = \"Hello World\"\n",
        "\n",
        "\n",
        "Strings are:\n",
        "\n",
        "Immutable → once created, you cannot change individual characters.\n",
        "\n",
        "Indexed → you can access characters using their index.\n",
        "\n",
        "Iterable → you can loop through them character by character.\n",
        "\n",
        "Definition\tstring-Sequence of characters\tlist-Sequence of elements (can be numbers, strings, objects, etc.)\n",
        "Mutability\tstring- Immutable (cannot be changed)\tlist-Mutable (elements can be modified)\n",
        "Element Type\tstring-Always characters\tlist-Can hold any data type (mixed allowed)\n",
        "Syntax\tstring-\"Hello\", 'World'\t[1, 2, 3], [\"a\", \"b\", \"c\"]\n",
        "Methods\tHas string-specific methods like .upper(), .lower(), .split()\tHas list methods like .append(), .remove(), .sort()\n",
        "Concatenation\t+ joins strings (\"Hi\" + \"There\")\t+ joins lists ([1,2] + [3,4])\n",
        "Character Access\tReturns a character (string of length 1)\tReturns the actual element (could be any type)\n",
        "\n",
        "7. How do tuples ensure data integrity in Python\n",
        "1. Immutability\n",
        "\n",
        "Once a tuple is created, its elements cannot be changed, added, or removed.\n",
        "\n",
        "Example:\n",
        "\n",
        "t = (1, 2, 3)\n",
        "# t[0] = 10   ❌ Error: 'tuple' object does not support item assignment\n",
        "\n",
        "\n",
        "This immutability guarantees that data inside the tuple remains the same throughout the program.\n",
        "\n",
        "2. Predictability and Safety\n",
        "\n",
        "Since tuples can’t be modified accidentally, they prevent unintended side effects.\n",
        "\n",
        "Example: Passing a tuple to a function ensures the function cannot alter your original data (unlike a list).\n",
        "\n",
        "def process(data):\n",
        "    # data[0] = 99  ❌ Not possible if data is a tuple\n",
        "    print(data)\n",
        "\n",
        "process((10, 20, 30))\n",
        "\n",
        "3. Hashability (when elements are immutable too)\n",
        "\n",
        "Tuples can be used as dictionary keys or set elements, while lists cannot.\n",
        "\n",
        "This makes tuples reliable for cases where data must remain constant and unique.\n",
        "\n",
        "coords = {(10, 20): \"Point A\", (30, 40): \"Point B\"}\n",
        "print(coords[(10, 20)])  # \"Point A\"\n",
        "\n",
        "4. Semantic Meaning\n",
        "\n",
        "Tuples often represent fixed collections of data (like coordinates, RGB values, database rows).\n",
        "\n",
        "Their immutability signals to other developers: “This grouping of values should not change.”\n",
        "\n",
        "8. What is a hash table, and how does it relate to dictionaries in Python\n",
        "A hash table is a data structure that stores data in key–value pairs.\n",
        "\n",
        "It uses a hash function to convert each key into a numerical value (called a hash).\n",
        "\n",
        "That hash determines the position (index) where the key–value pair is stored in memory.\n",
        "\n",
        "Relation to Dictionaries in Python\n",
        "\n",
        "In Python, a dictionary is implemented using a hash table.\n",
        "\n",
        "Each key in a dictionary must be:\n",
        "\n",
        "Immutable (e.g., strings, numbers, tuples of immutables) so its hash value never changes.\n",
        "\n",
        "Unique within that dictionary.\n",
        "\n",
        "This is why dictionary operations like dict[key], in, or del dict[key] are extremely fast.\n",
        "\n",
        "9. Can lists contain different data types in Python?\n",
        "Yes, In Python, lists can contain different data types in the same collection.\n",
        "\n",
        "10. Explain why strings are immutable in Python?\n",
        "1. Efficiency and Memory Optimization\n",
        "\n",
        "Python uses an internal technique called string interning (reusing strings with the same value in memory).\n",
        "\n",
        "If strings were mutable, two variables pointing to the same string could cause unexpected side effects when one changes it.\n",
        "\n",
        "Immutability makes it safe to share and reuse string objects.\n",
        "\n",
        "a = \"hello\"\n",
        "b = \"hello\"\n",
        "print(a is b)   # True (both point to same object in memory)\n",
        "\n",
        "2. Hashability (Dictionary / Set Keys)\n",
        "\n",
        "Strings are often used as keys in dictionaries or as elements in sets.\n",
        "\n",
        "Keys must be hashable (fixed hash value).\n",
        "\n",
        "If strings were mutable, their hash could change, breaking dictionary lookups.\n",
        "\n",
        "d = {\"name\": \"Khushi\"}\n",
        "print(d[\"name\"])   # Works because \"name\" is immutable\n",
        "\n",
        "3. Security\n",
        "\n",
        "Immutability prevents accidental or malicious modification of critical strings, like file paths, URLs, or configuration values.\n",
        "\n",
        "11. What advantages do dictionaries offer over lists for certain tasks?\n",
        "Advantages of Dictionaries over Lists\n",
        "\n",
        "Dictionaries in Python are key–value stores (implemented using hash tables), whereas lists are ordered collections of elements. Because of this difference, dictionaries offer several advantages for certain tasks:\n",
        "\n",
        "1. Fast Lookup by Key\n",
        "\n",
        "Dictionary: Accessing a value by key is O(1) on average.\n",
        "\n",
        "List: To find an element, Python may have to scan every item (O(n)).\n",
        "\n",
        "# Dictionary lookup\n",
        "student = {\"name\": \"Khushi\", \"age\": 23}\n",
        "print(student[\"name\"])  # Very fast\n",
        "\n",
        "# List lookup\n",
        "students = [[\"name\", \"Khushi\"], [\"age\", 23]]\n",
        "# Have to loop through the list to find \"name\"\n",
        "\n",
        "2. Meaningful Keys\n",
        "\n",
        "Keys provide semantic meaning rather than relying on index positions.\n",
        "\n",
        "Example:\n",
        "\n",
        "student = {\"name\": \"Khushi\", \"age\": 23, \"grade\": \"A\"}\n",
        "print(student[\"grade\"])  # Clear and readable\n",
        "\n",
        "\n",
        "In a list, you would have to remember index positions:\n",
        "\n",
        "student_list = [\"Khushi\", 23, \"A\"]\n",
        "print(student_list[2])  # Less readable\n",
        "\n",
        "3. No Need for Sequential Order\n",
        "\n",
        "Dictionaries are ideal when the order doesn’t matter, but associating unique keys with values does.\n",
        "\n",
        "Example: Storing configuration settings, mapping usernames to user info.\n",
        "\n",
        "4. Uniqueness of Keys\n",
        "\n",
        "Dictionary keys are unique, automatically preventing duplicate entries.\n",
        "\n",
        "In a list, you’d have to manually check for duplicates.\n",
        "\n",
        "5. Supports Complex Lookups and Nested Data\n",
        "\n",
        "You can have dictionaries of dictionaries, allowing fast nested lookups.\n",
        "\n",
        "users = {\n",
        "    \"alice\": {\"age\": 25, \"city\": \"NY\"},\n",
        "    \"bob\": {\"age\": 30, \"city\": \"LA\"}\n",
        "}\n",
        "print(users[\"bob\"][\"city\"])  # LA\n",
        "\n",
        "\n",
        "Doing the same with lists would require nested loops.\n",
        "\n",
        "12. Describe a scenario where using a tuple would be preferable over a list\n",
        "1. Returning Multiple Values from a Function\n",
        "\n",
        "Tuples are often used to return multiple related values without allowing modification.\n",
        "\n",
        "def get_student_info():\n",
        "    name = \"Khushi\"\n",
        "    age = 23\n",
        "    grade = \"A\"\n",
        "    return (name, age, grade)  # Return as tuple\n",
        "\n",
        "info = get_student_info()\n",
        "print(info)  # ('Khushi', 23, 'A')\n",
        "\n",
        "\n",
        "Using a tuple signals that this data is not meant to be changed.\n",
        "\n",
        "2. Using as Dictionary Keys\n",
        "\n",
        "Lists are mutable → cannot be used as dictionary keys.\n",
        "\n",
        "Tuples are immutable → can be used as keys for mappings.\n",
        "\n",
        "# Coordinates mapping\n",
        "locations = {\n",
        "    (10, 20): \"Park\",\n",
        "    (30, 40): \"Library\"\n",
        "}\n",
        "print(locations[(10, 20)])  # \"Park\"\n",
        "\n",
        "\n",
        "Using a list [10, 20] as a key would fail.\n",
        "\n",
        "3. Fixed Data That Should Not Change\n",
        "\n",
        "Tuples are ideal for constants or fixed records, like RGB color values, coordinates, or date-time components.\n",
        "\n",
        "color = (255, 0, 0)  # Red\n",
        "# color[0] = 128  ❌ Not allowed\n",
        "\n",
        "\n",
        "This prevents accidental modification, ensuring data integrity.\n",
        "\n",
        "4. Slightly Better Performance\n",
        "\n",
        "Tuples are lighter and faster than lists due to immutability.\n",
        "\n",
        "When you need a large collection of fixed items for read-only purposes, tuples are more efficient.\n",
        "\n",
        "13. How do sets handle duplicate values in Python?\n",
        "1. Sets Automatically Remove Duplicates\n",
        "\n",
        "A set is an unordered collection of unique elements.\n",
        "\n",
        "If you try to add duplicate values, Python automatically ignores them.\n",
        "\n",
        "# Example\n",
        "numbers = [1, 2, 2, 3, 4, 4, 5]\n",
        "unique_numbers = set(numbers)\n",
        "print(unique_numbers)  # {1, 2, 3, 4, 5}\n",
        "\n",
        "\n",
        "Notice how the duplicates 2 and 4 are removed.\n",
        "\n",
        "2. Adding Elements to a Set\n",
        "\n",
        "Using .add() to insert elements:\n",
        "\n",
        "s = {1, 2, 3}\n",
        "s.add(2)  # Duplicate\n",
        "s.add(4)  # New element\n",
        "print(s)  # {1, 2, 3, 4} → 2 was ignored\n",
        "\n",
        "3. Why This Happens\n",
        "\n",
        "Sets are implemented using a hash table.\n",
        "\n",
        "Each element is hashed and stored in a unique “bucket.”\n",
        "\n",
        "If an element already exists (same hash and equality), the set ignores it.\n",
        "\n",
        "4. Use Case\n",
        "\n",
        "Quickly remove duplicates from a list:\n",
        "\n",
        "names = [\"Alice\", \"Bob\", \"Alice\", \"Eve\"]\n",
        "unique_names = list(set(names))\n",
        "print(unique_names)  # ['Alice', 'Bob', 'Eve'] (order may vary)\n",
        "\n",
        "14. How does the “in” keyword work differently for lists and dictionaries\n",
        "1. in with Lists\n",
        "\n",
        "Lists are ordered collections, and elements are not indexed by key, only by position.\n",
        "\n",
        "When you do x in my_list, Python checks each element one by one until it finds a match.\n",
        "\n",
        "Time complexity: O(n) on average (linear search).\n",
        "\n",
        "my_list = [1, 2, 3, 4, 5]\n",
        "print(3 in my_list)  # True\n",
        "print(6 in my_list)  # False\n",
        "\n",
        "\n",
        "Python compares the search value with each element sequentially.\n",
        "\n",
        "2. in with Dictionaries\n",
        "\n",
        "Dictionaries are key–value stores implemented with a hash table.\n",
        "\n",
        "When you do key in my_dict, Python checks only the keys, not the values.\n",
        "\n",
        "Lookup is extremely fast (average O(1) time) because it uses hashing.\n",
        "\n",
        "my_dict = {\"name\": \"Khushi\", \"age\": 23}\n",
        "\n",
        "print(\"name\" in my_dict)  # True\n",
        "print(\"Khushi\" in my_dict)  # False → only keys are checked\n",
        "\n",
        "\n",
        "To check values in a dictionary:\n",
        "\n",
        "print(\"Khushi\" in my_dict.values())  # True\n",
        "\n",
        "\n",
        "But checking values is slower (O(n)) because Python iterates through all values.\n",
        "\n",
        "15. Can you modify the elements of a tuple? Explain why or why not?\n",
        "1. Tuples Are Immutable\n",
        "\n",
        "Tuples are immutable, which means that once a tuple is created, its contents cannot be changed.\n",
        "\n",
        "You cannot add, remove, or modify elements in a tuple.\n",
        "\n",
        "t = (1, 2, 3)\n",
        "# t[0] = 10   ❌ Error: 'tuple' object does not support item assignment\n",
        "# t.append(4) ❌ Error: 'tuple' object has no attribute 'append'\n",
        "\n",
        "2. Why Tuples Are Immutable\n",
        "\n",
        "Data Integrity\n",
        "\n",
        "Immutability ensures that the data inside a tuple remains unchanged throughout the program.\n",
        "\n",
        "Useful when you want reliable, fixed data, like coordinates or RGB values.\n",
        "\n",
        "Hashability\n",
        "\n",
        "Immutable tuples can be used as dictionary keys or set elements because their hash value does not change.\n",
        "\n",
        "Lists cannot be used this way because they are mutable.\n",
        "\n",
        "# Tuple as dictionary key\n",
        "locations = {(10, 20): \"Park\"}\n",
        "print(locations[(10, 20)])  # \"Park\"\n",
        "\n",
        "\n",
        "Performance\n",
        "\n",
        "Tuples are lighter and faster than lists because Python doesn’t need to support dynamic changes.\n",
        "\n",
        "3. Important Note\n",
        "\n",
        "If a tuple contains mutable objects (like a list), you can modify those mutable objects, but you cannot replace them in the tuple itself.\n",
        "\n",
        "t = (1, [2, 3], 4)\n",
        "t[1].append(5)   # ✅ Modifies the list inside tuple\n",
        "print(t)          # (1, [2, 3, 5], 4)\n",
        "# t[1] = [7, 8]  ❌ Error: Cannot replace the element itself\n",
        "\n",
        "16. What is a nested dictionary, and give an example of its use case.\n",
        "A nested dictionary is a dictionary inside another dictionary.\n",
        "\n",
        "Essentially, the values of a dictionary can themselves be dictionaries.\n",
        "\n",
        "This allows you to represent complex hierarchical data.\n",
        "\n",
        "Syntax\n",
        "nested_dict = {\n",
        "    \"key1\": {\"subkey1\": value1, \"subkey2\": value2},\n",
        "    \"key2\": {\"subkey1\": value3, \"subkey2\": value4}\n",
        "}\n",
        "\n",
        "17. Describe the time complexity of accessing elements in a dictionary.\n",
        "  1. Dictionaries Are Implemented Using Hash Tables\n",
        "\n",
        "Python dictionaries use a hash table to store key–value pairs.\n",
        "\n",
        "Each key is passed through a hash function to compute its hash value, which determines where the value is stored in memory.\n",
        "\n",
        "2. Accessing by Key\n",
        "\n",
        "When you access a value using dict[key], Python:\n",
        "\n",
        "Computes the hash of the key.\n",
        "\n",
        "Uses the hash to find the location (bucket) in memory.\n",
        "\n",
        "Returns the value associated with the key.\n",
        "\n",
        "student = {\"name\": \"Khushi\", \"age\": 23, \"grade\": \"A\"}\n",
        "print(student[\"age\"])  # 23\n",
        "\n",
        "18. In what situations are lists preferred over dictionaries?\n",
        "  1. Ordered Data or Sequence Matters\n",
        "\n",
        "Lists preserve insertion order and allow index-based access.\n",
        "\n",
        "Use a list when the order of elements is important.\n",
        "\n",
        "fruits = [\"apple\", \"banana\", \"cherry\"]\n",
        "print(fruits[0])  # apple → order matters\n",
        "\n",
        "\n",
        "Dictionaries also preserve insertion order (Python 3.7+), but indexing by position is not as direct or natural.\n",
        "\n",
        "2. Duplicate Elements Are Allowed\n",
        "\n",
        "Lists can contain duplicate values.\n",
        "\n",
        "Use a list if repeating elements are required.\n",
        "\n",
        "numbers = [1, 2, 2, 3, 4, 4]\n",
        "print(numbers)  # [1, 2, 2, 3, 4, 4]\n",
        "\n",
        "\n",
        "Dictionary keys must be unique, so duplicates are not allowed for keys.\n",
        "\n",
        "3. Simple Iteration Over Values\n",
        "\n",
        "If you just need to store values and iterate over them sequentially, lists are simpler.\n",
        "\n",
        "for fruit in [\"apple\", \"banana\", \"cherry\"]:\n",
        "    print(fruit)\n",
        "\n",
        "\n",
        "Dictionaries require keys for meaningful iteration if values alone are needed.\n",
        "\n",
        "4. Stack or Queue Operations\n",
        "\n",
        "Lists are often used for stacks (LIFO) and queues (FIFO) using methods like .append() and .pop().\n",
        "\n",
        "stack = []\n",
        "stack.append(10)\n",
        "stack.append(20)\n",
        "print(stack.pop())  # 20 → LIFO\n",
        "\n",
        "\n",
        "Dictionaries are not designed for stack/queue behavior.\n",
        "\n",
        "19. Why are dictionaries considered unordered, and how does that affect data retrieval?\n",
        "  Traditionally (before Python 3.7), dictionaries were unordered collections, meaning the order in which items were inserted was not preserved.\n",
        "\n",
        "This is because dictionaries are implemented as hash tables, which store data based on the hash of the key, not the sequence of insertion.\n",
        "\n",
        "Example (Python <3.7 behavior):\n",
        "\n",
        "d = {\"apple\": 1, \"banana\": 2, \"cherry\": 3}\n",
        "print(d)  \n",
        "# Output could be: {'banana': 2, 'cherry': 3, 'apple': 1}\n",
        "\n",
        "\n",
        "Reason: The hash function determines where the key–value pair is stored in memory, so the order is based on hash values, not insertion sequence.\n",
        "\n",
        "2. How This Affects Data Retrieval\n",
        "\n",
        "Lookup by Key Is Still Fast\n",
        "\n",
        "Accessing a value via d[key] does not depend on order.\n",
        "\n",
        "Time complexity remains O(1) because Python uses the hash table.\n",
        "\n",
        "d = {\"apple\": 1, \"banana\": 2, \"cherry\": 3}\n",
        "print(d[\"banana\"])  # 2 → order doesn’t matter\n",
        "\n",
        "\n",
        "Iteration Order Is Unpredictable (Pre-Python 3.7)\n",
        "\n",
        "When looping over the dictionary:\n",
        "\n",
        "for key in d:\n",
        "    print(key)\n",
        "\n",
        "\n",
        "The keys could come out in any order, so you cannot rely on insertion order for logic.\n",
        "\n",
        "Post-Python 3.7\n",
        "\n",
        "Dictionaries preserve insertion order, so iteration now occurs in the order items were added.\n",
        "\n",
        "Important: Despite preserving order, dictionaries are still optimized for key-based lookup, not sequential access like lists.\n",
        "\n",
        "20. Explain the difference between a list and a dictionary in terms of data retrieval.\n",
        "| **Access Method**    | By **index** (position in the list)                                        | By **key** (unique identifier)                                                        |\n",
        "| **Lookup Speed**     | O(n) on average (linear search) if you search by value                     | O(1) on average (hash table lookup)                                                   |\n",
        "| **Order Dependence** | Access depends on position; the first element is `list[0]`                 | Access depends on the key; order doesn’t matter for lookup                            |\n",
        "| **Use Case**         | When you want **sequential access**, or the order of elements is important | When you need **fast key-based access** or mapping of keys to values                  |\n",
        "| **Duplicates**       | Allowed; multiple elements can have the same value                         | Keys must be unique; each key maps to a single value                                  |\n",
        "| **Iteration**        | Iterating gives elements in insertion order (Python 3.7+)                  | Iterating gives keys in insertion order (Python 3.7+); values require `dict.values()` |\n"
      ],
      "metadata": {
        "id": "LR10k56PTF1z"
      }
    },
    {
      "cell_type": "markdown",
      "source": [
        " Write a code to create a string with your name and print it"
      ],
      "metadata": {
        "id": "Z6GnRy_2qL5h"
      }
    },
    {
      "cell_type": "code",
      "source": [
        "name=\"khushi\"\n",
        "print (name)\n"
      ],
      "metadata": {
        "colab": {
          "base_uri": "https://localhost:8080/"
        },
        "id": "jE2ZffSAqNcH",
        "outputId": "3809f899-3eae-4cc2-c56f-574cdd0c6a3c"
      },
      "execution_count": null,
      "outputs": [
        {
          "output_type": "stream",
          "name": "stdout",
          "text": [
            "khushi\n"
          ]
        }
      ]
    },
    {
      "cell_type": "markdown",
      "source": [
        "Write a code to find the length of the string \"Hello World\""
      ],
      "metadata": {
        "id": "U3xxKqIesCJL"
      }
    },
    {
      "cell_type": "code",
      "source": [
        "str=\"hello world\"\n",
        "len(str)"
      ],
      "metadata": {
        "colab": {
          "base_uri": "https://localhost:8080/"
        },
        "id": "T3I1SHWusGFk",
        "outputId": "25b93fbe-ae45-434c-f46f-9a6f08efef30"
      },
      "execution_count": null,
      "outputs": [
        {
          "output_type": "execute_result",
          "data": {
            "text/plain": [
              "11"
            ]
          },
          "metadata": {},
          "execution_count": 11
        }
      ]
    },
    {
      "cell_type": "markdown",
      "source": [
        "Write a code to slice the first 3 characters from the string \"Python Programming\""
      ],
      "metadata": {
        "id": "09KOF4Iksez7"
      }
    },
    {
      "cell_type": "code",
      "source": [
        "str=\"python programming\"\n",
        "first_three= str[0:4]\n",
        "print(first_three)"
      ],
      "metadata": {
        "colab": {
          "base_uri": "https://localhost:8080/"
        },
        "id": "vr4Mo3B-sf66",
        "outputId": "429e8848-8727-40aa-af32-62ad23e746e2"
      },
      "execution_count": null,
      "outputs": [
        {
          "output_type": "stream",
          "name": "stdout",
          "text": [
            "pyth\n"
          ]
        }
      ]
    },
    {
      "cell_type": "markdown",
      "source": [
        "Write a code to convert the string \"hello\" to uppercase"
      ],
      "metadata": {
        "id": "Z76amDvHuXvk"
      }
    },
    {
      "cell_type": "code",
      "source": [
        "str=\"hello\"\n",
        "upper_text= str.upper()\n",
        "print(upper_text)"
      ],
      "metadata": {
        "colab": {
          "base_uri": "https://localhost:8080/"
        },
        "id": "XK580qPbuZOg",
        "outputId": "6ea609bb-7e16-41c7-f9bb-c281babaf039"
      },
      "execution_count": null,
      "outputs": [
        {
          "output_type": "stream",
          "name": "stdout",
          "text": [
            "HELLO\n"
          ]
        }
      ]
    },
    {
      "cell_type": "markdown",
      "source": [
        "Write a code to replace the word \"apple\" with \"orange\" in the string \"I like apple\""
      ],
      "metadata": {
        "id": "1B_9nCEvv6y8"
      }
    },
    {
      "cell_type": "code",
      "source": [
        "str=\"i like apple\"\n",
        "str.replace(\"apple\", \"orange\")"
      ],
      "metadata": {
        "colab": {
          "base_uri": "https://localhost:8080/",
          "height": 36
        },
        "id": "3dUEmkRkv-Y7",
        "outputId": "eabf674e-4764-474a-d039-1add51abf682"
      },
      "execution_count": null,
      "outputs": [
        {
          "output_type": "execute_result",
          "data": {
            "text/plain": [
              "'i like orange'"
            ],
            "application/vnd.google.colaboratory.intrinsic+json": {
              "type": "string"
            }
          },
          "metadata": {},
          "execution_count": 14
        }
      ]
    },
    {
      "cell_type": "markdown",
      "source": [
        "Write a code to create a list with numbers 1 to 5 and print it"
      ],
      "metadata": {
        "id": "Ebg54q5nx3Ok"
      }
    },
    {
      "cell_type": "code",
      "source": [
        "lst=[1,2,3,4,5]\n",
        "print(lst)"
      ],
      "metadata": {
        "colab": {
          "base_uri": "https://localhost:8080/"
        },
        "id": "e7IOB2Icx4cZ",
        "outputId": "577e09c7-c4bd-4de4-f0d5-792af2c75644"
      },
      "execution_count": null,
      "outputs": [
        {
          "output_type": "stream",
          "name": "stdout",
          "text": [
            "[1, 2, 3, 4, 5]\n"
          ]
        }
      ]
    },
    {
      "cell_type": "markdown",
      "source": [
        " Write a code to append the number 10 to the list [1, 2, 3, 4]"
      ],
      "metadata": {
        "id": "phtUkViDyJex"
      }
    },
    {
      "cell_type": "code",
      "source": [
        "lst=[1,2,3,4]\n",
        "lst.append(10)\n",
        "print(lst)"
      ],
      "metadata": {
        "colab": {
          "base_uri": "https://localhost:8080/"
        },
        "id": "p256t_ukyRxg",
        "outputId": "5698ab7e-b98b-4d0e-b121-579f817fb755"
      },
      "execution_count": null,
      "outputs": [
        {
          "output_type": "stream",
          "name": "stdout",
          "text": [
            "[1, 2, 3, 4, 10]\n"
          ]
        }
      ]
    },
    {
      "cell_type": "markdown",
      "source": [
        "Write a code to remove the number 3 from the list [1, 2, 3, 4, 5]"
      ],
      "metadata": {
        "id": "T8kZY5jozCAd"
      }
    },
    {
      "cell_type": "code",
      "source": [
        "lst=[1,2,3,4,5]\n",
        "lst.remove(3)\n",
        "print (lst)"
      ],
      "metadata": {
        "colab": {
          "base_uri": "https://localhost:8080/"
        },
        "id": "lK2WD0E6zF8D",
        "outputId": "3062bc06-0e25-45cc-c500-b6769f93cbf9"
      },
      "execution_count": null,
      "outputs": [
        {
          "output_type": "stream",
          "name": "stdout",
          "text": [
            "[1, 2, 4, 5]\n"
          ]
        }
      ]
    },
    {
      "cell_type": "markdown",
      "source": [
        "Write a code to access the second element in the list ['a', 'b', 'c', 'd']"
      ],
      "metadata": {
        "id": "zdcryO-oP-AJ"
      }
    },
    {
      "cell_type": "code",
      "source": [
        "lst=['a','b','c','d']\n",
        "access=lst[1]\n",
        "print(access)"
      ],
      "metadata": {
        "colab": {
          "base_uri": "https://localhost:8080/",
          "height": 0
        },
        "id": "fWxz-FxdP_Qw",
        "outputId": "efe723ec-2bdf-4a7b-9782-d599e0626f2b"
      },
      "execution_count": 2,
      "outputs": [
        {
          "output_type": "stream",
          "name": "stdout",
          "text": [
            "b\n"
          ]
        }
      ]
    },
    {
      "cell_type": "markdown",
      "source": [
        "Write a code to reverse the list [10, 20, 30, 40, 50]."
      ],
      "metadata": {
        "id": "4V4_aBPzRhjR"
      }
    },
    {
      "cell_type": "code",
      "source": [
        "# Create the list\n",
        "my_list = [10, 20, 30, 40, 50]\n",
        "\n",
        "# Reverse the list\n",
        "my_list.reverse()\n",
        "\n",
        "# Print the result\n",
        "print(my_list)\n"
      ],
      "metadata": {
        "colab": {
          "base_uri": "https://localhost:8080/",
          "height": 0
        },
        "id": "2EYsFsfpRi2z",
        "outputId": "3b2781a0-0c54-481b-e18d-fb72caafe29b"
      },
      "execution_count": 3,
      "outputs": [
        {
          "output_type": "stream",
          "name": "stdout",
          "text": [
            "[50, 40, 30, 20, 10]\n"
          ]
        }
      ]
    },
    {
      "cell_type": "markdown",
      "source": [
        "11. Write a code to create a tuple with the elements 100, 200, 300 and print it."
      ],
      "metadata": {
        "id": "5zLWWKByRxD1"
      }
    },
    {
      "cell_type": "code",
      "source": [
        "tuple=(100,200,300)\n",
        "print(tuple)"
      ],
      "metadata": {
        "colab": {
          "base_uri": "https://localhost:8080/",
          "height": 0
        },
        "id": "TO80b3Y6R2uj",
        "outputId": "97a298fb-9f24-4d14-d3ba-70d7171c9183"
      },
      "execution_count": 4,
      "outputs": [
        {
          "output_type": "stream",
          "name": "stdout",
          "text": [
            "(100, 200, 300)\n"
          ]
        }
      ]
    },
    {
      "cell_type": "markdown",
      "source": [
        "Write a code to access the second-to-last element of the tuple ('red', 'green', 'blue', 'yellow')."
      ],
      "metadata": {
        "id": "CoNZfGXrSPdr"
      }
    },
    {
      "cell_type": "code",
      "source": [
        "tuple=('red','green','blue','yellow')\n",
        "second_to_last = tuple[-2]\n",
        "print(second_to_last)"
      ],
      "metadata": {
        "colab": {
          "base_uri": "https://localhost:8080/",
          "height": 0
        },
        "id": "A6jxt7NvSTGR",
        "outputId": "0a1a2aa1-59d6-4e79-c761-30f9fc6b9258"
      },
      "execution_count": 9,
      "outputs": [
        {
          "output_type": "stream",
          "name": "stdout",
          "text": [
            "blue\n"
          ]
        }
      ]
    },
    {
      "cell_type": "markdown",
      "source": [
        "13. Write a code to find the minimum number in the tuple (10, 20, 5, 15)"
      ],
      "metadata": {
        "id": "gdRdWNkLTsd7"
      }
    },
    {
      "cell_type": "code",
      "source": [
        "tuple=(10,20,5,15)\n",
        "min_num=min(tuple)\n",
        "print(min_num)"
      ],
      "metadata": {
        "colab": {
          "base_uri": "https://localhost:8080/",
          "height": 0
        },
        "id": "hfei2mSmTwUT",
        "outputId": "40d581d4-ded0-4a5d-aef8-c196faacec0b"
      },
      "execution_count": 10,
      "outputs": [
        {
          "output_type": "stream",
          "name": "stdout",
          "text": [
            "5\n"
          ]
        }
      ]
    },
    {
      "cell_type": "markdown",
      "source": [
        " 14. Write a code to find the index of the element \"cat\" in the tuple ('dog', 'cat', 'rabbit')."
      ],
      "metadata": {
        "id": "MfN7pRT3UHex"
      }
    },
    {
      "cell_type": "code",
      "source": [
        "tuple=('dog','cat','rabbit')\n",
        "index=tuple.index('cat')\n",
        "print(index)"
      ],
      "metadata": {
        "colab": {
          "base_uri": "https://localhost:8080/",
          "height": 0
        },
        "id": "n4-8e2E4UuHb",
        "outputId": "8c71116b-a2e1-4abc-b40a-3f091f4abfba"
      },
      "execution_count": 11,
      "outputs": [
        {
          "output_type": "stream",
          "name": "stdout",
          "text": [
            "1\n"
          ]
        }
      ]
    },
    {
      "cell_type": "markdown",
      "source": [
        "15. Write a code to create a tuple containing three different fruits and check if \"kiwi\" is in it."
      ],
      "metadata": {
        "id": "2NxH6dWfUKX-"
      }
    },
    {
      "cell_type": "code",
      "source": [
        "fruits=('apple','banana','kiwi')\n",
        "if 'kiwi' in fruits:\n",
        "    print('yes')\n",
        "else:\n",
        "    print('no')"
      ],
      "metadata": {
        "colab": {
          "base_uri": "https://localhost:8080/",
          "height": 0
        },
        "id": "bu4Rx-kDU8w2",
        "outputId": "7e9abf22-fcbd-450d-e723-9d43878aaee7"
      },
      "execution_count": 12,
      "outputs": [
        {
          "output_type": "stream",
          "name": "stdout",
          "text": [
            "yes\n"
          ]
        }
      ]
    },
    {
      "cell_type": "markdown",
      "source": [
        "16. Write a code to create a set with the elements 'a', 'b', 'c' and print it."
      ],
      "metadata": {
        "id": "AiG5rhz6Vkmy"
      }
    },
    {
      "cell_type": "code",
      "source": [
        "set={'a','b','c'}\n",
        "print(set)"
      ],
      "metadata": {
        "colab": {
          "base_uri": "https://localhost:8080/",
          "height": 0
        },
        "id": "0e06NSvSVoFi",
        "outputId": "4878ed5d-941d-4d8b-b479-381a44f61560"
      },
      "execution_count": 13,
      "outputs": [
        {
          "output_type": "stream",
          "name": "stdout",
          "text": [
            "{'a', 'c', 'b'}\n"
          ]
        }
      ]
    },
    {
      "cell_type": "markdown",
      "source": [
        "17. Write a code to clear all elements from the set {1, 2, 3, 4, 5}."
      ],
      "metadata": {
        "id": "fyow-uIEV8eC"
      }
    },
    {
      "cell_type": "code",
      "source": [
        "set={1,2,3,4,5}\n",
        "set.clear()\n",
        "print(set)"
      ],
      "metadata": {
        "colab": {
          "base_uri": "https://localhost:8080/",
          "height": 0
        },
        "id": "tPwWmItEV_cw",
        "outputId": "f06f63b1-a562-4456-c3a1-dd5d2ebcaee3"
      },
      "execution_count": 14,
      "outputs": [
        {
          "output_type": "stream",
          "name": "stdout",
          "text": [
            "set()\n"
          ]
        }
      ]
    },
    {
      "cell_type": "markdown",
      "source": [
        " 18. Write a code to remove the element 4 from the set {1, 2, 3, 4}."
      ],
      "metadata": {
        "id": "Tgc_SEQCWRA9"
      }
    },
    {
      "cell_type": "code",
      "source": [
        "set={1,2,3,4}\n",
        "set.remove(4)\n",
        "print(set)"
      ],
      "metadata": {
        "colab": {
          "base_uri": "https://localhost:8080/",
          "height": 0
        },
        "id": "dw6bHtsMWW3V",
        "outputId": "bbadb93d-d6bc-47cc-824c-a8b4c2c35b6f"
      },
      "execution_count": 15,
      "outputs": [
        {
          "output_type": "stream",
          "name": "stdout",
          "text": [
            "{1, 2, 3}\n"
          ]
        }
      ]
    },
    {
      "cell_type": "markdown",
      "source": [
        "19. Write a code to find the union of two sets {1, 2, 3} and {3, 4, 5}."
      ],
      "metadata": {
        "id": "Y6rAoFGYWrC2"
      }
    },
    {
      "cell_type": "code",
      "source": [
        "set={1,2,3}\n",
        "set1={3,4,5}\n",
        "union=set.union(set1)\n",
        "print(union)"
      ],
      "metadata": {
        "colab": {
          "base_uri": "https://localhost:8080/",
          "height": 0
        },
        "id": "IR7g1I6iWugx",
        "outputId": "bdd5c797-25c7-49dc-e771-3cace8063012"
      },
      "execution_count": 16,
      "outputs": [
        {
          "output_type": "stream",
          "name": "stdout",
          "text": [
            "{1, 2, 3, 4, 5}\n"
          ]
        }
      ]
    },
    {
      "cell_type": "markdown",
      "source": [
        "20. Write a code to find the intersection of two sets {1, 2, 3} and {2, 3, 4}."
      ],
      "metadata": {
        "id": "KRHEGIciXHnT"
      }
    },
    {
      "cell_type": "code",
      "source": [
        "set1 = {1, 2, 3}\n",
        "set2 = {2, 3, 4}\n",
        "intersection = set1.intersection(set2)\n",
        "print(intersection)"
      ],
      "metadata": {
        "colab": {
          "base_uri": "https://localhost:8080/",
          "height": 0
        },
        "id": "c_b4PHXvXK1t",
        "outputId": "5c6850bb-d8bd-4dee-80c9-dece7171ee07"
      },
      "execution_count": 17,
      "outputs": [
        {
          "output_type": "stream",
          "name": "stdout",
          "text": [
            "{2, 3}\n"
          ]
        }
      ]
    },
    {
      "cell_type": "markdown",
      "source": [
        " 21. Write a code to create a dictionary with the keys \"name\", \"age\", and \"city\", and print it."
      ],
      "metadata": {
        "id": "ra_jDgJ8Xnw2"
      }
    },
    {
      "cell_type": "code",
      "source": [
        "my_dict={\"name\":\"khushi\",\"age\":23,\"city\":\"delhi\"}\n",
        "print(my_dict)"
      ],
      "metadata": {
        "colab": {
          "base_uri": "https://localhost:8080/",
          "height": 0
        },
        "id": "9WzsvYiXXsFn",
        "outputId": "3818c837-4c9c-4fa2-c17e-edf4400e6d73"
      },
      "execution_count": 18,
      "outputs": [
        {
          "output_type": "stream",
          "name": "stdout",
          "text": [
            "{'name': 'khushi', 'age': 23, 'city': 'delhi'}\n"
          ]
        }
      ]
    },
    {
      "cell_type": "markdown",
      "source": [
        " 22. Write a code to add a new key-value pair \"country\": \"USA\" to the dictionary {'name': 'John', 'age': 25}."
      ],
      "metadata": {
        "id": "XDkY3hRYYLW3"
      }
    },
    {
      "cell_type": "code",
      "source": [
        "my_dict = {'name': 'John', 'age': 25}\n",
        "my_dict['country'] = 'USA'\n",
        "print(my_dict)"
      ],
      "metadata": {
        "colab": {
          "base_uri": "https://localhost:8080/",
          "height": 0
        },
        "id": "gy0RZYl0YPzQ",
        "outputId": "2fae5a78-f03c-4bfc-d5d7-c18f92df5444"
      },
      "execution_count": 20,
      "outputs": [
        {
          "output_type": "stream",
          "name": "stdout",
          "text": [
            "{'name': 'John', 'age': 25, 'country': 'USA'}\n"
          ]
        }
      ]
    },
    {
      "cell_type": "markdown",
      "source": [
        " 23. Write a code to access the value associated with the key \"name\" in the dictionary {'name': 'Alice', 'age': 30}."
      ],
      "metadata": {
        "id": "9OZREEHUY3vc"
      }
    },
    {
      "cell_type": "code",
      "source": [
        "dict={'name': 'Alice', 'age': 30}\n",
        "value=dict['name']\n",
        "print(value)"
      ],
      "metadata": {
        "colab": {
          "base_uri": "https://localhost:8080/",
          "height": 0
        },
        "id": "s0efnP77Y7y5",
        "outputId": "82465fac-e835-4fc2-e2a6-4f3f1a4eba86"
      },
      "execution_count": 21,
      "outputs": [
        {
          "output_type": "stream",
          "name": "stdout",
          "text": [
            "Alice\n"
          ]
        }
      ]
    },
    {
      "cell_type": "markdown",
      "source": [
        " 24. Write a code to remove the key \"age\" from the dictionary {'name': 'Bob', 'age': 22, 'city': 'New York'}."
      ],
      "metadata": {
        "id": "IuPOT-rvY7Np"
      }
    },
    {
      "cell_type": "code",
      "source": [
        "dict={'name': 'Bob', 'age': 22, 'city': 'New York'}\n",
        "del dict['age']\n",
        "print(dict)"
      ],
      "metadata": {
        "colab": {
          "base_uri": "https://localhost:8080/",
          "height": 0
        },
        "id": "JUuHawkvZpXY",
        "outputId": "2aa3473a-0da1-442f-ab16-73887ed2f5a9"
      },
      "execution_count": 22,
      "outputs": [
        {
          "output_type": "stream",
          "name": "stdout",
          "text": [
            "{'name': 'Bob', 'city': 'New York'}\n"
          ]
        }
      ]
    },
    {
      "cell_type": "markdown",
      "source": [
        " 25. Write a code to check if the key \"city\" exists in the dictionary {'name': 'Alice', 'city': 'Paris'}."
      ],
      "metadata": {
        "id": "8ZxMNnmLaWvL"
      }
    },
    {
      "cell_type": "code",
      "source": [
        "my_dict = {'name': 'Alice', 'city': 'Paris'}\n",
        "if 'city' in my_dict:\n",
        "    print(\"The key 'city' exists in the dictionary.\")\n",
        "else:\n",
        "    print(\"The key 'city' does not exist in the dictionary.\")"
      ],
      "metadata": {
        "colab": {
          "base_uri": "https://localhost:8080/",
          "height": 0
        },
        "id": "9Vk0-RGaaYTD",
        "outputId": "b9caa501-f8d9-4dc8-e897-b6618f8c2ada"
      },
      "execution_count": 23,
      "outputs": [
        {
          "output_type": "stream",
          "name": "stdout",
          "text": [
            "The key 'city' exists in the dictionary.\n"
          ]
        }
      ]
    },
    {
      "cell_type": "markdown",
      "source": [
        " 26. Write a code to create a list, a tuple, and a dictionary, and print them all."
      ],
      "metadata": {
        "id": "i3lX85PXbD6e"
      }
    },
    {
      "cell_type": "code",
      "source": [
        "my_list = [1, 2, 3, 4]\n",
        "my_tuple = ('a', 'b', 'c')\n",
        "my_dict = {'name': 'Alice', 'age': 30}\n",
        "\n",
        "print(\"My list:\", my_list)\n",
        "print(\"My tuple:\", my_tuple)\n",
        "print(\"My dictionary:\", my_dict)"
      ],
      "metadata": {
        "colab": {
          "base_uri": "https://localhost:8080/",
          "height": 0
        },
        "id": "gPWqhZA_bIwG",
        "outputId": "20e2b04a-b5d9-4a16-bf2a-e19c986d8ecf"
      },
      "execution_count": 24,
      "outputs": [
        {
          "output_type": "stream",
          "name": "stdout",
          "text": [
            "My list: [1, 2, 3, 4]\n",
            "My tuple: ('a', 'b', 'c')\n",
            "My dictionary: {'name': 'Alice', 'age': 30}\n"
          ]
        }
      ]
    },
    {
      "cell_type": "markdown",
      "source": [
        " 27. Write a code to create a list of 5 random numbers between 1 and 100, sort it in ascending order, and print the result.(replaced)"
      ],
      "metadata": {
        "id": "0E-onSWzbtzB"
      }
    },
    {
      "cell_type": "code",
      "source": [
        "import random\n",
        "\n",
        "# Create a list of 5 random numbers between 1 and 100\n",
        "random_numbers = [random.randint(1, 100) for _ in range(5)]\n",
        "\n",
        "# Sort the list in ascending order\n",
        "random_numbers.sort()\n",
        "\n",
        "# Print the result\n",
        "print(random_numbers)"
      ],
      "metadata": {
        "colab": {
          "base_uri": "https://localhost:8080/",
          "height": 0
        },
        "id": "K9I7P5Reb8zn",
        "outputId": "305cece1-9445-4613-d018-9ecfe3ef5b88"
      },
      "execution_count": 31,
      "outputs": [
        {
          "output_type": "stream",
          "name": "stdout",
          "text": [
            "[10, 23, 51, 65, 78]\n"
          ]
        }
      ]
    },
    {
      "cell_type": "markdown",
      "source": [
        "28. Write a code to create a list with strings and print the element at the third index."
      ],
      "metadata": {
        "id": "l0aLgKSccvsO"
      }
    },
    {
      "cell_type": "code",
      "source": [
        "my_list = [\"apple\", \"banana\", \"cherry\", \"date\", \"elderberry\"]\n",
        "third_element = my_list[2]\n",
        "print(third_element)"
      ],
      "metadata": {
        "colab": {
          "base_uri": "https://localhost:8080/",
          "height": 0
        },
        "id": "tQk38zm9dLnU",
        "outputId": "c889b827-6fad-4582-a1a1-baa918167235"
      },
      "execution_count": 32,
      "outputs": [
        {
          "output_type": "stream",
          "name": "stdout",
          "text": [
            "cherry\n"
          ]
        }
      ]
    },
    {
      "cell_type": "markdown",
      "source": [
        " 29. Write a code to combine two dictionaries into one and print the result."
      ],
      "metadata": {
        "id": "iwQXvUEEdWIN"
      }
    },
    {
      "cell_type": "code",
      "source": [
        "dict1 = {'a': 1, 'b': 2}\n",
        "dict2 = {'c': 3, 'd': 4}\n",
        "\n",
        "# Combine the dictionaries\n",
        "combined_dict = dict1.copy() # Create a copy to avoid modifying dict1 in place\n",
        "combined_dict.update(dict2)\n",
        "\n",
        "print(combined_dict)"
      ],
      "metadata": {
        "colab": {
          "base_uri": "https://localhost:8080/",
          "height": 0
        },
        "id": "5qLPHLE7dY-B",
        "outputId": "bb7e4de6-eb8e-4fc2-ac82-d778f16a36cb"
      },
      "execution_count": 33,
      "outputs": [
        {
          "output_type": "stream",
          "name": "stdout",
          "text": [
            "{'a': 1, 'b': 2, 'c': 3, 'd': 4}\n"
          ]
        }
      ]
    },
    {
      "cell_type": "markdown",
      "source": [
        "30. Write a code to convert a list of strings into a set."
      ],
      "metadata": {
        "id": "1oDR3wDaeGyr"
      }
    },
    {
      "cell_type": "code",
      "source": [
        "# Create a list of strings\n",
        "string_list = [\"apple\", \"banana\", \"cherry\", \"apple\", \"banana\"]\n",
        "\n",
        "# Convert the list into a set\n",
        "string_set = set(string_list)\n",
        "\n",
        "# Print the result\n",
        "print(string_set)"
      ],
      "metadata": {
        "id": "ZUfIExCQx2EO",
        "colab": {
          "base_uri": "https://localhost:8080/",
          "height": 211
        },
        "outputId": "d6b0f565-3ced-4bec-e234-80e9d771489c"
      },
      "execution_count": 30,
      "outputs": [
        {
          "output_type": "error",
          "ename": "TypeError",
          "evalue": "'set' object is not callable",
          "traceback": [
            "\u001b[0;31m---------------------------------------------------------------------------\u001b[0m",
            "\u001b[0;31mTypeError\u001b[0m                                 Traceback (most recent call last)",
            "\u001b[0;32m/tmp/ipython-input-1245089178.py\u001b[0m in \u001b[0;36m<cell line: 0>\u001b[0;34m()\u001b[0m\n\u001b[1;32m      3\u001b[0m \u001b[0;34m\u001b[0m\u001b[0m\n\u001b[1;32m      4\u001b[0m \u001b[0;31m# Convert the list into a set\u001b[0m\u001b[0;34m\u001b[0m\u001b[0;34m\u001b[0m\u001b[0m\n\u001b[0;32m----> 5\u001b[0;31m \u001b[0mstring_set\u001b[0m \u001b[0;34m=\u001b[0m \u001b[0mset\u001b[0m\u001b[0;34m(\u001b[0m\u001b[0mstring_list\u001b[0m\u001b[0;34m)\u001b[0m\u001b[0;34m\u001b[0m\u001b[0;34m\u001b[0m\u001b[0m\n\u001b[0m\u001b[1;32m      6\u001b[0m \u001b[0;34m\u001b[0m\u001b[0m\n\u001b[1;32m      7\u001b[0m \u001b[0;31m# Print the result\u001b[0m\u001b[0;34m\u001b[0m\u001b[0;34m\u001b[0m\u001b[0m\n",
            "\u001b[0;31mTypeError\u001b[0m: 'set' object is not callable"
          ]
        }
      ]
    },
    {
      "cell_type": "code",
      "execution_count": null,
      "metadata": {
        "id": "OxXB00kIS4Er"
      },
      "outputs": [],
      "source": []
    },
    {
      "cell_type": "code",
      "source": [],
      "metadata": {
        "id": "4N58UQK0qIAx"
      },
      "execution_count": null,
      "outputs": []
    }
  ]
}